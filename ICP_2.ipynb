{
 "cells": [
  {
   "cell_type": "code",
   "execution_count": 30,
   "id": "9b9afe59",
   "metadata": {},
   "outputs": [
    {
     "name": "stdout",
     "output_type": "stream",
     "text": [
      "Go ih\n"
     ]
    }
   ],
   "source": [
    "def string_alternative(Str):\n",
    "    output = \"\"\n",
    "    for a in range(len(Str)):\n",
    "        if a % 2 == 0:\n",
    "            output += Str[a]\n",
    "    return output\n",
    "\n",
    "print(string_alternative(\"Good night\"))"
   ]
  },
  {
   "cell_type": "code",
   "execution_count": 26,
   "id": "ee112fa9",
   "metadata": {},
   "outputs": [
    {
     "name": "stdout",
     "output_type": "stream",
     "text": [
      "Your First Name : Yashwanth \n",
      "Your Last Name : Somu\n",
      "Yashwanth Somu\n"
     ]
    }
   ],
   "source": [
    "First_name = ( input(\"Your First Name : \"))\n",
    "last_name = (input(\"Your Last Name : \"))\n",
    "Full_Name = print(First_name + last_name)"
   ]
  },
  {
   "cell_type": "code",
   "execution_count": 9,
   "id": "90201a54",
   "metadata": {},
   "outputs": [
    {
     "name": "stdout",
     "output_type": "stream",
     "text": [
      "150 155 145 148\n",
      "[381.0, 393.7, 368.3, 375.92]\n"
     ]
    }
   ],
   "source": [
    "L1=list(map(float,input().split()))\n",
    "L2=[x*2.54 for x in L1]\n",
    "print(L2)"
   ]
  },
  {
   "cell_type": "code",
   "execution_count": 29,
   "id": "1f476c0f",
   "metadata": {},
   "outputs": [
    {
     "name": "stdout",
     "output_type": "stream",
     "text": [
      "150 155 145 148\n",
      "[381.0, 393.7, 368.3, 375.92]\n"
     ]
    }
   ],
   "source": [
    "L1=list(map(float,input().split()))\n",
    "L2=[]\n",
    "for x in L1:\n",
    "    x=x*2.54\n",
    "    L2.append(x)\n",
    "print(L2)"
   ]
  },
  {
   "cell_type": "code",
   "execution_count": 27,
   "id": "d6870613",
   "metadata": {},
   "outputs": [
    {
     "name": "stdout",
     "output_type": "stream",
     "text": [
      "{'Python': 1, 'course': 2, 'Deep': 1, 'learning': 1}\n"
     ]
    }
   ],
   "source": [
    "file1 = open('input', 'r')\n",
    "counts = dict()\n",
    "data = file1.read()\n",
    "words = data.split()\n",
    "for word in words:\n",
    "    if word in counts:\n",
    "        counts[word] += 1\n",
    "    else:\n",
    "        counts[word] = 1\n",
    "print(counts)\n",
    "f = open(\"output\", \"w\")\n",
    "for line in file1:\n",
    "    f.write(file1)\n",
    "f.write('\\nword_count:\\n')\n",
    "for key in list(counts.keys()):\n",
    "    f.write(str(key)+ \":\"+str(counts[key])+'\\n')\n",
    "f.close()"
   ]
  },
  {
   "cell_type": "code",
   "execution_count": null,
   "id": "aaefbbe1",
   "metadata": {},
   "outputs": [],
   "source": []
  }
 ],
 "metadata": {
  "kernelspec": {
   "display_name": "Python 3 (ipykernel)",
   "language": "python",
   "name": "python3"
  },
  "language_info": {
   "codemirror_mode": {
    "name": "ipython",
    "version": 3
   },
   "file_extension": ".py",
   "mimetype": "text/x-python",
   "name": "python",
   "nbconvert_exporter": "python",
   "pygments_lexer": "ipython3",
   "version": "3.9.13"
  }
 },
 "nbformat": 4,
 "nbformat_minor": 5
}
